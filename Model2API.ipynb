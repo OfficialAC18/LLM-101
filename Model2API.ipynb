{
 "cells": [
  {
   "cell_type": "code",
   "execution_count": 1,
   "metadata": {},
   "outputs": [
    {
     "data": {
      "application/vnd.jupyter.widget-view+json": {
       "model_id": "2f21415a89234f02ad43a1b00043e0d3",
       "version_major": 2,
       "version_minor": 0
      },
      "text/plain": [
       "Loading checkpoint shards:   0%|          | 0/2 [00:00<?, ?it/s]"
      ]
     },
     "metadata": {},
     "output_type": "display_data"
    },
    {
     "name": "stderr",
     "output_type": "stream",
     "text": [
      "Xformers is not installed correctly. If you want to use memory_efficient_attention to accelerate training use the following command to install Xformers\n",
      "pip install xformers.\n"
     ]
    }
   ],
   "source": [
    "import torch\n",
    "from peft import PeftModel\n",
    "from flask import Flask, request, jsonify\n",
    "from transformers import AutoModelForCausalLM, AutoTokenizer, pipeline\n",
    "\n",
    "app = Flask(__name__)\n",
    "\n",
    "FT_MODEL = \"/scratch/users/k23058970/llama-2-7b-ft-guanaco\"\n",
    "device_map = {'':0}\n",
    "\n",
    "\n",
    "@app.route(\"/predict\",methods =['POST'] )\n",
    "def predict():\n",
    "        prompt = request.json\n",
    "        print(prompt)\n",
    "        \n",
    "        prompt = prompt['prompt']\n",
    "        \n",
    "        #Generate the Prompt output\n",
    "        results = pipe(f\"<s>[INST]{prompt}[/INST]\")\n",
    "\n",
    "        #Return the generated content\n",
    "        return jsonify({'output':results[0]['generated_text'].split().split('[/INST]')[1]})\n",
    "\n",
    "@app.route('/test')\n",
    "def test():\n",
    "    return \"Endpoint is working\"\n",
    "\n",
    "\n",
    "\n",
    "# Load the model\n",
    "model = AutoModelForCausalLM.from_pretrained(\n",
    "        pretrained_model_name_or_path = FT_MODEL,\n",
    "        low_cpu_mem_usage=True,\n",
    "        return_dict = True,\n",
    "        torch_dtype=torch.float16,\n",
    "        device_map = device_map\n",
    "    )\n",
    "\n",
    "model = PeftModel.from_pretrained(model,FT_MODEL)\n",
    "model = model.merge_and_unload()\n",
    "\n",
    "#Load the corresponding Tokenizer\n",
    "tokenizer = AutoTokenizer.from_pretrained(\n",
    "        FT_MODEL,\n",
    "        trust_remote_code = True\n",
    ")\n",
    "tokenizer.pad_token = tokenizer.eos_token\n",
    "tokenizer.padding_side = 'right'\n",
    "\n",
    "# Create the pipeline for generation\n",
    "# Search for more arguments laters\n",
    "pipe = pipeline(task=\"text-generation\",\n",
    "                model = model,\n",
    "                tokenizer = tokenizer,\n",
    "                max_length = 1000)"
   ]
  },
  {
   "cell_type": "code",
   "execution_count": 2,
   "metadata": {},
   "outputs": [
    {
     "name": "stdout",
     "output_type": "stream",
     "text": [
      " * Serving Flask app '__main__'\n",
      " * Debug mode: off\n"
     ]
    },
    {
     "name": "stderr",
     "output_type": "stream",
     "text": [
      "\u001b[31m\u001b[1mWARNING: This is a development server. Do not use it in a production deployment. Use a production WSGI server instead.\u001b[0m\n",
      " * Running on http://127.0.0.1:5000\n",
      "\u001b[33mPress CTRL+C to quit\u001b[0m\n"
     ]
    },
    {
     "ename": "",
     "evalue": "",
     "output_type": "error",
     "traceback": [
      "\u001b[1;31mThe Kernel crashed while executing code in the the current cell or a previous cell. Please review the code in the cell(s) to identify a possible cause of the failure. Click <a href='https://aka.ms/vscodeJupyterKernelCrash'>here</a> for more info. View Jupyter <a href='command:jupyter.viewOutput'>log</a> for further details."
     ]
    },
    {
     "ename": "",
     "evalue": "",
     "output_type": "error",
     "traceback": [
      "\u001b[1;31mThe Kernel crashed while executing code in the the current cell or a previous cell. Please review the code in the cell(s) to identify a possible cause of the failure. Click <a href='https://aka.ms/vscodeJupyterKernelCrash'>here</a> for more info. View Jupyter <a href='command:jupyter.viewOutput'>log</a> for further details."
     ]
    }
   ],
   "source": [
    "#Run API\n",
    "app.run(debug=False)"
   ]
  },
  {
   "cell_type": "code",
   "execution_count": null,
   "metadata": {},
   "outputs": [],
   "source": []
  }
 ],
 "metadata": {
  "kernelspec": {
   "display_name": "LLM-101",
   "language": "python",
   "name": "llm-101"
  },
  "language_info": {
   "codemirror_mode": {
    "name": "ipython",
    "version": 3
   },
   "file_extension": ".py",
   "mimetype": "text/x-python",
   "name": "python",
   "nbconvert_exporter": "python",
   "pygments_lexer": "ipython3",
   "version": "3.10.14"
  }
 },
 "nbformat": 4,
 "nbformat_minor": 2
}
